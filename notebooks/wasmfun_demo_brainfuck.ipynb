{
 "cells": [
  {
   "cell_type": "markdown",
   "metadata": {},
   "source": [
    "# WASM demo - brainfuck\n",
    "Brainfuck is an esoteric language that consists of only eight simple commands:\n",
    "\n",
    "* `>` &nbsp;&nbsp; increment the data pointer (to point to the next cell to the right).\n",
    "* `<` &nbsp;&nbsp; decrement the data pointer (to point to the next cell to the left).\n",
    "* `+` &nbsp;&nbsp; increment (increase by one) the byte at the data pointer.\n",
    "* `-` &nbsp;&nbsp; decrement (decrease by one) the byte at the data pointer.\n",
    "* `.` &nbsp;&nbsp; output the byte at the data pointer.\n",
    "* `,` &nbsp;&nbsp; accept one byte of input, storing its value in the byte at the data pointer.\n",
    "* `[` &nbsp;&nbsp; if the byte at the data pointer is zero, then instead of moving the instruction pointer forward to the next command, jump it forward to the command after the matching ] command.\n",
    "* `]` &nbsp;&nbsp; if the byte at the data pointer is nonzero, then instead of moving the instruction pointer forward to the next command, jump it back to the command after the matching [ command\n",
    "\n",
    "Brainfuck is a simple language, but that does not mean that programming Brainfuck is easy!"
   ]
  },
  {
   "cell_type": "code",
   "execution_count": null,
   "metadata": {
    "collapsed": true
   },
   "outputs": [],
   "source": [
    "import wasmfun as wf"
   ]
  },
  {
   "cell_type": "code",
   "execution_count": null,
   "metadata": {
    "collapsed": true
   },
   "outputs": [],
   "source": [
    "def _commands2instructions(commands):\n",
    "    \"\"\" Compile brainfuck commands to WASM instructions (as tuples).\n",
    "    \"\"\"    \n",
    "    instructions = []\n",
    "    while commands:\n",
    "        c = commands.pop(0)\n",
    "        if c == '>':\n",
    "            instructions += [('get_local', 0), ('i32.const', 1), ('i32.add'), ('set_local', 0)]\n",
    "        elif c == '<':\n",
    "            instructions += [('get_local', 0), ('i32.const', 1), ('i32.sub'), ('set_local', 0)]\n",
    "        elif c == '+':\n",
    "            instructions += [('get_local', 0), ('get_local', 0),  # once for the read, once for the write\n",
    "                             ('i32.load8_u', 0, 0),\n",
    "                             ('i32.const', 1), ('i32.add'), ('i32.store8', 0, 0)]\n",
    "        elif c == '-':\n",
    "            instructions += [('get_local', 0), ('get_local', 0),  # once for the read, once for the write\n",
    "                             ('i32.load8_u', 0, 0),\n",
    "                             ('i32.const', 1), ('i32.sub'), ('i32.store8', 0, 0)]\n",
    "        elif c == '.':\n",
    "            instructions += [('get_local', 0), ('i32.load8_u', 0, 0), ('call', 0)]\n",
    "        elif c == ',':\n",
    "            # We don't support input, just set to zero\n",
    "            instructions += [('get_local', 0), ('i32.const', 0), ('i32.store8', 0, 0)]\n",
    "        elif c == '[':\n",
    "            instructions += [('block', 'emptyblock'),\n",
    "                                # if current data point == 0 goto end of block\n",
    "                                ('get_local', 0), ('i32.load8_u', 0, 0), ('i32.const', 0), ('i32.eq'), ('br_if', 0),\n",
    "                                ('loop', 'emptyblock'),\n",
    "                                    ] + _commands2instructions(commands ) + [\n",
    "                                    # if current data point > 0 goto start of block\n",
    "                                    ('get_local', 0), ('i32.load8_u', 0, 0), ('i32.const', 0), ('i32.ne'), ('br_if', 0),\n",
    "                                ('end'),\n",
    "                             ('end')]\n",
    "        elif c == ']':\n",
    "            break\n",
    "        else:\n",
    "            raise ValueError('Unknown Brainfuck command: %r' % c)\n",
    "    \n",
    "    return instructions"
   ]
  },
  {
   "cell_type": "markdown",
   "metadata": {},
   "source": [
    "## Hello world example"
   ]
  },
  {
   "cell_type": "code",
   "execution_count": null,
   "metadata": {
    "collapsed": true
   },
   "outputs": [],
   "source": [
    "EXAMPLE1 = \"\"\"\n",
    "[ This program prints \"Hello World!\" and a newline to the screen, its\n",
    "  length is 106 active command characters. [It is not the shortest.]\n",
    "  This loop is an \"initial comment loop\", a simple way of adding a comment\n",
    "  to a BF program such that you don't have to worry about any command\n",
    "  characters. Any \".\", \",\", \"+\", \"-\", \"<\" and \">\" characters are simply\n",
    "  ignored, the \"[\" and \"]\" characters just have to be balanced. This\n",
    "  loop and the commands it contains are ignored because the current cell\n",
    "  defaults to a value of 0; the 0 value causes this loop to be skipped.\n",
    "]\n",
    "++++++++               Set Cell #0 to 8\n",
    "[\n",
    "    >++++               Add 4 to Cell #1; this will always set Cell #1 to 4\n",
    "    [                   as the cell will be cleared by the loop\n",
    "        >++             Add 2 to Cell #2\n",
    "        >+++            Add 3 to Cell #3\n",
    "        >+++            Add 3 to Cell #4\n",
    "        >+              Add 1 to Cell #5\n",
    "        <<<<-           Decrement the loop counter in Cell #1\n",
    "    ]                   Loop till Cell #1 is zero; number of iterations is 4\n",
    "    >+                  Add 1 to Cell #2\n",
    "    >+                  Add 1 to Cell #3\n",
    "    >-                  Subtract 1 from Cell #4\n",
    "    >>+                 Add 1 to Cell #6\n",
    "    [<]                 Move back to the first zero cell you find; this will\n",
    "                        be Cell #1 which was cleared by the previous loop\n",
    "    <-                  Decrement the loop Counter in Cell #0\n",
    "]                       Loop till Cell #0 is zero; number of iterations is 8\n",
    "The result of this is:\n",
    "Cell No :   0   1   2   3   4   5   6\n",
    "Contents:   0   0  72 104  88  32   8\n",
    "Pointer :   ^\n",
    ">>.                     Cell #2 has value 72 which is 'H'\n",
    ">---.                   Subtract 3 from Cell #3 to get 101 which is 'e'\n",
    "+++++++..+++.           Likewise for 'llo' from Cell #3\n",
    ">>.                     Cell #5 is 32 for the space\n",
    "<-.                     Subtract 1 from Cell #4 for 87 to give a 'W'\n",
    "<.                      Cell #3 was set to 'o' from the end of 'Hello'\n",
    "+++.------.--------.    Cell #3 for 'rl' and 'd'\n",
    ">>+.                    Add 1 to Cell #5 gives us an exclamation point\n",
    ">++.                    And finally a newline from Cell #6\n",
    "\"\"\""
   ]
  },
  {
   "cell_type": "code",
   "execution_count": null,
   "metadata": {},
   "outputs": [],
   "source": [
    "instructions = _commands2instructions([c for c in EXAMPLE1 if c in '><+-.,[]'])"
   ]
  },
  {
   "cell_type": "code",
   "execution_count": null,
   "metadata": {},
   "outputs": [],
   "source": [
    "m = wf.Module(\n",
    "    wf.ImportedFuncion('print_charcode', ['i32'], [], 'js', 'print_charcode'),\n",
    "    wf.Function('$main', [], [], ['i32'], instructions),\n",
    "    wf.MemorySection((1, 1)),\n",
    "    wf.DataSection(),\n",
    "    )\n",
    "m.show()"
   ]
  },
  {
   "cell_type": "code",
   "execution_count": null,
   "metadata": {},
   "outputs": [],
   "source": [
    "m.to_bytes()"
   ]
  },
  {
   "cell_type": "code",
   "execution_count": null,
   "metadata": {},
   "outputs": [],
   "source": [
    "wf.run_wasm_in_notebook(m)"
   ]
  },
  {
   "cell_type": "markdown",
   "metadata": {},
   "source": [
    "# Fibonacci example"
   ]
  },
  {
   "cell_type": "code",
   "execution_count": null,
   "metadata": {
    "collapsed": true
   },
   "outputs": [],
   "source": [
    "EXAMPLE2 = \"\"\"\n",
    "[Generate the fibonacci number sequence, (for numbers under 100). Taken from\n",
    "http://esoteric.sange.fi/brainfuck/bf-source/prog/fibonacci.txt\n",
    "]\n",
    "+++++++++++ number of digits to output\n",
    "> #1\n",
    "+ initial number\n",
    ">>>> #5\n",
    "++++++++++++++++++++++++++++++++++++++++++++ (comma)\n",
    "> #6\n",
    "++++++++++++++++++++++++++++++++ (space)\n",
    "<<<<<< #0\n",
    "[\n",
    "  > #1\n",
    "  copy #1 to #7\n",
    "  [>>>>>>+>+<<<<<<<-]>>>>>>>[<<<<<<<+>>>>>>>-]\n",
    "\n",
    "  <\n",
    "  divide #7 by 10 (begins in #7)\n",
    "  [\n",
    "    >\n",
    "    ++++++++++  set the divisor #8\n",
    "    [\n",
    "      subtract from the dividend and divisor\n",
    "      -<-\n",
    "      if dividend reaches zero break out\n",
    "        copy dividend to #9\n",
    "        [>>+>+<<<-]>>>[<<<+>>>-]\n",
    "        set #10\n",
    "        +\n",
    "        if #9 clear #10\n",
    "        <[>[-]<[-]]\n",
    "        if #10 move remaining divisor to #11\n",
    "        >[<<[>>>+<<<-]>>[-]]\n",
    "      jump back to #8 (divisor possition)\n",
    "      <<\n",
    "    ]\n",
    "    if #11 is empty (no remainder) increment the quotient #12\n",
    "    >>> #11\n",
    "    copy to #13\n",
    "    [>>+>+<<<-]>>>[<<<+>>>-]\n",
    "    set #14\n",
    "    +\n",
    "    if #13 clear #14\n",
    "    <[>[-]<[-]]\n",
    "    if #14 increment quotient\n",
    "    >[<<+>>[-]]\n",
    "    <<<<<<< #7\n",
    "  ]\n",
    "\n",
    "  quotient is in #12 and remainder is in #11\n",
    "  >>>>> #12\n",
    "  if #12 output value plus offset to ascii 0\n",
    "  [++++++++++++++++++++++++++++++++++++++++++++++++.[-]]\n",
    "  subtract #11 from 10\n",
    "  ++++++++++  #12 is now 10\n",
    "  < #11\n",
    "  [->-<]\n",
    "  > #12\n",
    "  output #12 even if it's zero\n",
    "  ++++++++++++++++++++++++++++++++++++++++++++++++.[-]\n",
    "  <<<<<<<<<<< #1\n",
    "\n",
    "  check for final number\n",
    "  copy #0 to #3\n",
    "  <[>>>+>+<<<<-]>>>>[<<<<+>>>>-]\n",
    "  <- #3\n",
    "  if #3 output (comma) and (space)\n",
    "  [>>.>.<<<[-]]\n",
    "  << #1\n",
    "\n",
    "  [>>+>+<<<-]>>>[<<<+>>>-]<<[<+>-]>[<+>-]<<<-\n",
    "]\n",
    "\"\"\""
   ]
  },
  {
   "cell_type": "code",
   "execution_count": null,
   "metadata": {
    "collapsed": true
   },
   "outputs": [],
   "source": [
    "instructions = _commands2instructions([c for c in EXAMPLE2 if c in '><+-.,[]'])"
   ]
  },
  {
   "cell_type": "code",
   "execution_count": null,
   "metadata": {},
   "outputs": [],
   "source": [
    "m = wf.Module(\n",
    "    wf.ImportedFuncion('print_charcode', ['i32'], [], 'js', 'print_charcode'),\n",
    "    wf.Function('$main', [], [], ['i32'], instructions),\n",
    "    wf.MemorySection((1, 1)),\n",
    "    wf.DataSection(),\n",
    "    )\n",
    "m.show()"
   ]
  },
  {
   "cell_type": "code",
   "execution_count": null,
   "metadata": {},
   "outputs": [],
   "source": [
    "wf.run_wasm_in_notebook(m)"
   ]
  },
  {
   "cell_type": "code",
   "execution_count": null,
   "metadata": {},
   "outputs": [],
   "source": [
    "wf.run_wasm_in_node(m)"
   ]
  },
  {
   "cell_type": "code",
   "execution_count": null,
   "metadata": {
    "collapsed": true
   },
   "outputs": [],
   "source": []
  }
 ],
 "metadata": {
  "kernelspec": {
   "display_name": "Python 3",
   "language": "python",
   "name": "python3"
  },
  "language_info": {
   "codemirror_mode": {
    "name": "ipython",
    "version": 3
   },
   "file_extension": ".py",
   "mimetype": "text/x-python",
   "name": "python",
   "nbconvert_exporter": "python",
   "pygments_lexer": "ipython3",
   "version": "3.6.1"
  }
 },
 "nbformat": 4,
 "nbformat_minor": 2
}
